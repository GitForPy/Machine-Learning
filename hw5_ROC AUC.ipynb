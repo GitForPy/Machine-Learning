{
 "cells": [
  {
   "cell_type": "code",
   "execution_count": 580,
   "id": "2b6c6f31",
   "metadata": {},
   "outputs": [],
   "source": [
    "import pandas as pd\n",
    "import numpy as np\n",
    "import matplotlib.pyplot as plt\n",
    "import seaborn as sns\n",
    "from sklearn.preprocessing import LabelEncoder, StandardScaler\n",
    "from sklearn.model_selection import train_test_split\n",
    "from sklearn.linear_model import LogisticRegression\n",
    "from sklearn.metrics import roc_curve, roc_auc_score, precision_recall_curve, average_precision_score \n",
    "from sklearn.metrics import confusion_matrix  \n",
    "from sklearn.metrics import classification_report\n",
    "from datetime import datetime\n",
    "import warnings"
   ]
  },
  {
   "cell_type": "markdown",
   "id": "b981a78c",
   "metadata": {},
   "source": [
    "**Цель**: закрепить знания о математическом смысле метрик TPR, FPR. Изучить построение ROC-кривой, графика Precision-Recall.\n",
    "\n",
    "**Описание задания**:\n",
    "\n",
    "Решить задачу классификации при помощи обучения модели логистической регрессии. Качество модели оценивается путем подсчета метрик TPR, FPR и построения графиков ROC-кривой, Precision-Recall. Данные для обучения модели хранятся в файле athletes.csv, который можно найти в материалах к занятию.\n",
    "\n",
    "**Этапы работы**:\n",
    "\n",
    "1. Преобразуйте данные:\n",
    "    \n",
    "    a. проверьте наличие пропущенных значений. Преобразуйте/удалите пропуски по необходимости;\n",
    "    \n",
    "    b. закодируйте категориальные переменные числовыми значениями по необходимости.\n",
    "    \n",
    "    \n",
    "2. Разделите выборку на обучающее (80% данных) и тестовое (20% данных) подмножества.\n",
    "\n",
    "3. Постройте ROC-кривую с помощью функции sklearn.metrics. roc_curve.\n",
    "\n",
    "4. Вычислите значение ROC-AUC метрики с помощью функции sklearn.metrics.roc_auc_score.\n",
    "\n",
    "5. Реализуйте подсчет метрик TPR, FPR «вручную», без использования готовых функций из библиотеки sklearn.\n",
    "\n",
    "6. Постройте ROC-кривую с помощью вычисленных в п. 5 метрик: объедините графики из п. 3 и п. 6 в один. Сравните, сделайте вывод.\n",
    "\n",
    "7. Постройте график Precision-Recall, используя метрики, посчитанные в п. 5.\n",
    "\n",
    "8. *Вычислите значение ROC-AUC метрики, используя метрики, посчитанные в п. 5.\n",
    "\n",
    "9. **Сформулируйте выводы по проделанной работе**:\n",
    "    \n",
    "    a. как по полученным графикам сделать вывод о качестве модели? Как вы оцениваете обученную модель исходя из подсчитанных метрик?\n",
    "\n",
    "    b. *может ли ROC-кривая проходить ниже диагонали?\n",
    "\n",
    "**Результат**:\n",
    "\n",
    "- проведена оценка качества модели классификации;\n",
    "\n",
    "- реализован подсчет «вручную» основных метрик, проведено сравнение полученных результатов с готовыми функциями из библиотеки sklearn.\n",
    "\n",
    "**Форма выполнения**:\n",
    "- ссылка на Jupyter Notebook, загруженный на GitHub;\n",
    "- ссылка на Google Colab;\n",
    "- файл с расширением .ipynb.\n",
    "\n",
    "**Инструменты**:\n",
    "- Jupyter Notebook/Google Colab\n",
    "- GitHub\n",
    "- файл athletes.csv\n",
    "- Срок выполнения: дедлайн приема решений на проверку\n",
    "\n",
    "***Рекомендации к выполнению**:\n",
    "- Убедитесь, что на графике ROC-кривой присутствует диагональная линия, начинающаяся в точке (0;0) и заканчивающаяся в точке (1;1).\n",
    "\n",
    "- Текст оформляйте в отдельной ячейке Jupyter Notebook/Google Colab в формате markdown.\n",
    "\n",
    "- У графиков должен быть заголовок, подписи осей, легенда (опционально). Делайте графики бОльшего размера, чем стандартный вывод, чтобы увеличить читаемость.\n",
    "\n",
    "- Убедитесь, что по ссылкам есть доступ на чтение/просмотр.\n",
    "- Убедитесь, что все ячейки в работе выполнены и можно увидеть их вывод без повторного запуска."
   ]
  },
  {
   "cell_type": "code",
   "execution_count": 498,
   "id": "0348e7ac",
   "metadata": {},
   "outputs": [],
   "source": [
    "warnings.filterwarnings('ignore')"
   ]
  },
  {
   "cell_type": "markdown",
   "id": "e73ec7d2",
   "metadata": {},
   "source": [
    "# 1. Загрузка данных и первичный анализ EDA "
   ]
  },
  {
   "cell_type": "code",
   "execution_count": 499,
   "id": "3f1a7889",
   "metadata": {},
   "outputs": [],
   "source": [
    "path = '../Sources/athletes.csv'\n",
    "df = pd.read_csv(path)"
   ]
  },
  {
   "cell_type": "code",
   "execution_count": 500,
   "id": "a7e623e5",
   "metadata": {},
   "outputs": [
    {
     "data": {
      "text/html": [
       "<div>\n",
       "<style scoped>\n",
       "    .dataframe tbody tr th:only-of-type {\n",
       "        vertical-align: middle;\n",
       "    }\n",
       "\n",
       "    .dataframe tbody tr th {\n",
       "        vertical-align: top;\n",
       "    }\n",
       "\n",
       "    .dataframe thead th {\n",
       "        text-align: right;\n",
       "    }\n",
       "</style>\n",
       "<table border=\"1\" class=\"dataframe\">\n",
       "  <thead>\n",
       "    <tr style=\"text-align: right;\">\n",
       "      <th></th>\n",
       "      <th>id</th>\n",
       "      <th>name</th>\n",
       "      <th>nationality</th>\n",
       "      <th>sex</th>\n",
       "      <th>dob</th>\n",
       "      <th>height</th>\n",
       "      <th>weight</th>\n",
       "      <th>sport</th>\n",
       "      <th>gold</th>\n",
       "      <th>silver</th>\n",
       "      <th>bronze</th>\n",
       "    </tr>\n",
       "  </thead>\n",
       "  <tbody>\n",
       "    <tr>\n",
       "      <th>0</th>\n",
       "      <td>736041664</td>\n",
       "      <td>A Jesus Garcia</td>\n",
       "      <td>ESP</td>\n",
       "      <td>male</td>\n",
       "      <td>10/17/69</td>\n",
       "      <td>1.72</td>\n",
       "      <td>64.0</td>\n",
       "      <td>athletics</td>\n",
       "      <td>0</td>\n",
       "      <td>0</td>\n",
       "      <td>0</td>\n",
       "    </tr>\n",
       "    <tr>\n",
       "      <th>1</th>\n",
       "      <td>532037425</td>\n",
       "      <td>A Lam Shin</td>\n",
       "      <td>KOR</td>\n",
       "      <td>female</td>\n",
       "      <td>9/23/86</td>\n",
       "      <td>1.68</td>\n",
       "      <td>56.0</td>\n",
       "      <td>fencing</td>\n",
       "      <td>0</td>\n",
       "      <td>0</td>\n",
       "      <td>0</td>\n",
       "    </tr>\n",
       "    <tr>\n",
       "      <th>2</th>\n",
       "      <td>435962603</td>\n",
       "      <td>Aaron Brown</td>\n",
       "      <td>CAN</td>\n",
       "      <td>male</td>\n",
       "      <td>5/27/92</td>\n",
       "      <td>1.98</td>\n",
       "      <td>79.0</td>\n",
       "      <td>athletics</td>\n",
       "      <td>0</td>\n",
       "      <td>0</td>\n",
       "      <td>1</td>\n",
       "    </tr>\n",
       "    <tr>\n",
       "      <th>3</th>\n",
       "      <td>521041435</td>\n",
       "      <td>Aaron Cook</td>\n",
       "      <td>MDA</td>\n",
       "      <td>male</td>\n",
       "      <td>1/2/91</td>\n",
       "      <td>1.83</td>\n",
       "      <td>80.0</td>\n",
       "      <td>taekwondo</td>\n",
       "      <td>0</td>\n",
       "      <td>0</td>\n",
       "      <td>0</td>\n",
       "    </tr>\n",
       "    <tr>\n",
       "      <th>4</th>\n",
       "      <td>33922579</td>\n",
       "      <td>Aaron Gate</td>\n",
       "      <td>NZL</td>\n",
       "      <td>male</td>\n",
       "      <td>11/26/90</td>\n",
       "      <td>1.81</td>\n",
       "      <td>71.0</td>\n",
       "      <td>cycling</td>\n",
       "      <td>0</td>\n",
       "      <td>0</td>\n",
       "      <td>0</td>\n",
       "    </tr>\n",
       "  </tbody>\n",
       "</table>\n",
       "</div>"
      ],
      "text/plain": [
       "          id            name nationality     sex       dob  height  weight  \\\n",
       "0  736041664  A Jesus Garcia         ESP    male  10/17/69    1.72    64.0   \n",
       "1  532037425      A Lam Shin         KOR  female   9/23/86    1.68    56.0   \n",
       "2  435962603     Aaron Brown         CAN    male   5/27/92    1.98    79.0   \n",
       "3  521041435      Aaron Cook         MDA    male    1/2/91    1.83    80.0   \n",
       "4   33922579      Aaron Gate         NZL    male  11/26/90    1.81    71.0   \n",
       "\n",
       "       sport  gold  silver  bronze  \n",
       "0  athletics     0       0       0  \n",
       "1    fencing     0       0       0  \n",
       "2  athletics     0       0       1  \n",
       "3  taekwondo     0       0       0  \n",
       "4    cycling     0       0       0  "
      ]
     },
     "execution_count": 500,
     "metadata": {},
     "output_type": "execute_result"
    }
   ],
   "source": [
    "df.head()"
   ]
  },
  {
   "cell_type": "code",
   "execution_count": 501,
   "id": "6085c3fd",
   "metadata": {},
   "outputs": [
    {
     "name": "stdout",
     "output_type": "stream",
     "text": [
      "<class 'pandas.core.frame.DataFrame'>\n",
      "RangeIndex: 11538 entries, 0 to 11537\n",
      "Data columns (total 11 columns):\n",
      " #   Column       Non-Null Count  Dtype  \n",
      "---  ------       --------------  -----  \n",
      " 0   id           11538 non-null  int64  \n",
      " 1   name         11538 non-null  object \n",
      " 2   nationality  11538 non-null  object \n",
      " 3   sex          11538 non-null  object \n",
      " 4   dob          11537 non-null  object \n",
      " 5   height       11208 non-null  float64\n",
      " 6   weight       10879 non-null  float64\n",
      " 7   sport        11538 non-null  object \n",
      " 8   gold         11538 non-null  int64  \n",
      " 9   silver       11538 non-null  int64  \n",
      " 10  bronze       11538 non-null  int64  \n",
      "dtypes: float64(2), int64(4), object(5)\n",
      "memory usage: 991.7+ KB\n"
     ]
    }
   ],
   "source": [
    "df.info()"
   ]
  },
  {
   "cell_type": "code",
   "execution_count": 502,
   "id": "c75ac445",
   "metadata": {},
   "outputs": [],
   "source": [
    "df['dob'] = pd.to_datetime(df.dob, format='%m/%d/%y')"
   ]
  },
  {
   "cell_type": "code",
   "execution_count": 503,
   "id": "81140712",
   "metadata": {},
   "outputs": [],
   "source": [
    "cat_cols = [col for col in df.columns if str(df[col].dtypes) in ['object']]\n",
    "df[cat_cols] = df[cat_cols].astype('category')"
   ]
  },
  {
   "cell_type": "code",
   "execution_count": 504,
   "id": "bb5a2462",
   "metadata": {},
   "outputs": [
    {
     "name": "stdout",
     "output_type": "stream",
     "text": [
      "<class 'pandas.core.frame.DataFrame'>\n",
      "RangeIndex: 11538 entries, 0 to 11537\n",
      "Data columns (total 11 columns):\n",
      " #   Column       Non-Null Count  Dtype         \n",
      "---  ------       --------------  -----         \n",
      " 0   id           11538 non-null  int64         \n",
      " 1   name         11538 non-null  category      \n",
      " 2   nationality  11538 non-null  category      \n",
      " 3   sex          11538 non-null  category      \n",
      " 4   dob          11537 non-null  datetime64[ns]\n",
      " 5   height       11208 non-null  float64       \n",
      " 6   weight       10879 non-null  float64       \n",
      " 7   sport        11538 non-null  category      \n",
      " 8   gold         11538 non-null  int64         \n",
      " 9   silver       11538 non-null  int64         \n",
      " 10  bronze       11538 non-null  int64         \n",
      "dtypes: category(4), datetime64[ns](1), float64(2), int64(4)\n",
      "memory usage: 1.0 MB\n"
     ]
    }
   ],
   "source": [
    "df.info()"
   ]
  },
  {
   "cell_type": "code",
   "execution_count": 505,
   "id": "6baa167a",
   "metadata": {},
   "outputs": [
    {
     "data": {
      "text/html": [
       "<div>\n",
       "<style scoped>\n",
       "    .dataframe tbody tr th:only-of-type {\n",
       "        vertical-align: middle;\n",
       "    }\n",
       "\n",
       "    .dataframe tbody tr th {\n",
       "        vertical-align: top;\n",
       "    }\n",
       "\n",
       "    .dataframe thead th {\n",
       "        text-align: right;\n",
       "    }\n",
       "</style>\n",
       "<table border=\"1\" class=\"dataframe\">\n",
       "  <thead>\n",
       "    <tr style=\"text-align: right;\">\n",
       "      <th></th>\n",
       "      <th>id</th>\n",
       "      <th>height</th>\n",
       "      <th>weight</th>\n",
       "      <th>gold</th>\n",
       "      <th>silver</th>\n",
       "      <th>bronze</th>\n",
       "    </tr>\n",
       "  </thead>\n",
       "  <tbody>\n",
       "    <tr>\n",
       "      <th>count</th>\n",
       "      <td>1.153800e+04</td>\n",
       "      <td>11208.000000</td>\n",
       "      <td>10879.000000</td>\n",
       "      <td>11538.000000</td>\n",
       "      <td>11538.000000</td>\n",
       "      <td>11538.000000</td>\n",
       "    </tr>\n",
       "    <tr>\n",
       "      <th>mean</th>\n",
       "      <td>4.999885e+08</td>\n",
       "      <td>1.766282</td>\n",
       "      <td>72.068205</td>\n",
       "      <td>0.057722</td>\n",
       "      <td>0.056769</td>\n",
       "      <td>0.061016</td>\n",
       "    </tr>\n",
       "    <tr>\n",
       "      <th>std</th>\n",
       "      <td>2.908648e+08</td>\n",
       "      <td>0.112719</td>\n",
       "      <td>16.177334</td>\n",
       "      <td>0.255910</td>\n",
       "      <td>0.239147</td>\n",
       "      <td>0.243320</td>\n",
       "    </tr>\n",
       "    <tr>\n",
       "      <th>min</th>\n",
       "      <td>1.834700e+04</td>\n",
       "      <td>1.210000</td>\n",
       "      <td>31.000000</td>\n",
       "      <td>0.000000</td>\n",
       "      <td>0.000000</td>\n",
       "      <td>0.000000</td>\n",
       "    </tr>\n",
       "    <tr>\n",
       "      <th>25%</th>\n",
       "      <td>2.450997e+08</td>\n",
       "      <td>1.690000</td>\n",
       "      <td>60.000000</td>\n",
       "      <td>0.000000</td>\n",
       "      <td>0.000000</td>\n",
       "      <td>0.000000</td>\n",
       "    </tr>\n",
       "    <tr>\n",
       "      <th>50%</th>\n",
       "      <td>5.002011e+08</td>\n",
       "      <td>1.760000</td>\n",
       "      <td>70.000000</td>\n",
       "      <td>0.000000</td>\n",
       "      <td>0.000000</td>\n",
       "      <td>0.000000</td>\n",
       "    </tr>\n",
       "    <tr>\n",
       "      <th>75%</th>\n",
       "      <td>7.539874e+08</td>\n",
       "      <td>1.840000</td>\n",
       "      <td>81.000000</td>\n",
       "      <td>0.000000</td>\n",
       "      <td>0.000000</td>\n",
       "      <td>0.000000</td>\n",
       "    </tr>\n",
       "    <tr>\n",
       "      <th>max</th>\n",
       "      <td>9.999878e+08</td>\n",
       "      <td>2.210000</td>\n",
       "      <td>170.000000</td>\n",
       "      <td>5.000000</td>\n",
       "      <td>2.000000</td>\n",
       "      <td>2.000000</td>\n",
       "    </tr>\n",
       "  </tbody>\n",
       "</table>\n",
       "</div>"
      ],
      "text/plain": [
       "                 id        height        weight          gold        silver  \\\n",
       "count  1.153800e+04  11208.000000  10879.000000  11538.000000  11538.000000   \n",
       "mean   4.999885e+08      1.766282     72.068205      0.057722      0.056769   \n",
       "std    2.908648e+08      0.112719     16.177334      0.255910      0.239147   \n",
       "min    1.834700e+04      1.210000     31.000000      0.000000      0.000000   \n",
       "25%    2.450997e+08      1.690000     60.000000      0.000000      0.000000   \n",
       "50%    5.002011e+08      1.760000     70.000000      0.000000      0.000000   \n",
       "75%    7.539874e+08      1.840000     81.000000      0.000000      0.000000   \n",
       "max    9.999878e+08      2.210000    170.000000      5.000000      2.000000   \n",
       "\n",
       "             bronze  \n",
       "count  11538.000000  \n",
       "mean       0.061016  \n",
       "std        0.243320  \n",
       "min        0.000000  \n",
       "25%        0.000000  \n",
       "50%        0.000000  \n",
       "75%        0.000000  \n",
       "max        2.000000  "
      ]
     },
     "execution_count": 505,
     "metadata": {},
     "output_type": "execute_result"
    }
   ],
   "source": [
    "df.describe()"
   ]
  },
  {
   "cell_type": "code",
   "execution_count": 506,
   "id": "73c3319a",
   "metadata": {},
   "outputs": [
    {
     "name": "stdout",
     "output_type": "stream",
     "text": [
      "В данных встречаются дубликаты 0 раз.\n"
     ]
    }
   ],
   "source": [
    "print(f'В данных встречаются дубликаты {df.duplicated().sum()} раз.')"
   ]
  },
  {
   "cell_type": "markdown",
   "id": "760d5212",
   "metadata": {},
   "source": [
    "## 1.1 Работа с пропусками в данных"
   ]
  },
  {
   "cell_type": "code",
   "execution_count": 507,
   "id": "476b6957",
   "metadata": {},
   "outputs": [
    {
     "data": {
      "text/plain": [
       "id               0\n",
       "name             0\n",
       "nationality      0\n",
       "sex              0\n",
       "dob              1\n",
       "height         330\n",
       "weight         659\n",
       "sport            0\n",
       "gold             0\n",
       "silver           0\n",
       "bronze           0\n",
       "dtype: int64"
      ]
     },
     "execution_count": 507,
     "metadata": {},
     "output_type": "execute_result"
    }
   ],
   "source": [
    "df.isna().sum()"
   ]
  },
  {
   "cell_type": "code",
   "execution_count": 508,
   "id": "5507615e",
   "metadata": {},
   "outputs": [
    {
     "name": "stdout",
     "output_type": "stream",
     "text": [
      "Для date of birth пустых строк 1\n",
      "Для height пустых строк 330\n",
      "Для weight пустых строк 659\n",
      "Всего строк в наборе 11538\n"
     ]
    }
   ],
   "source": [
    "print(f'Для date of birth пустых строк { len(df[ df.dob.isna()])}')\n",
    "print(f'Для height пустых строк { len(df[ df.height.isna()])}')\n",
    "print(f'Для weight пустых строк { len(df[ df.weight.isna()])}')\n",
    "print(f'Всего строк в наборе {df.shape[0]}')"
   ]
  },
  {
   "cell_type": "markdown",
   "id": "c51fe4fb",
   "metadata": {},
   "source": [
    "**Date of birth**"
   ]
  },
  {
   "cell_type": "code",
   "execution_count": 509,
   "id": "ad77fbcb",
   "metadata": {},
   "outputs": [
    {
     "data": {
      "text/html": [
       "<div>\n",
       "<style scoped>\n",
       "    .dataframe tbody tr th:only-of-type {\n",
       "        vertical-align: middle;\n",
       "    }\n",
       "\n",
       "    .dataframe tbody tr th {\n",
       "        vertical-align: top;\n",
       "    }\n",
       "\n",
       "    .dataframe thead th {\n",
       "        text-align: right;\n",
       "    }\n",
       "</style>\n",
       "<table border=\"1\" class=\"dataframe\">\n",
       "  <thead>\n",
       "    <tr style=\"text-align: right;\">\n",
       "      <th></th>\n",
       "      <th>id</th>\n",
       "      <th>name</th>\n",
       "      <th>nationality</th>\n",
       "      <th>sex</th>\n",
       "      <th>dob</th>\n",
       "      <th>height</th>\n",
       "      <th>weight</th>\n",
       "      <th>sport</th>\n",
       "      <th>gold</th>\n",
       "      <th>silver</th>\n",
       "      <th>bronze</th>\n",
       "    </tr>\n",
       "  </thead>\n",
       "  <tbody>\n",
       "    <tr>\n",
       "      <th>8546</th>\n",
       "      <td>663676373</td>\n",
       "      <td>Pavel Sozykin</td>\n",
       "      <td>RUS</td>\n",
       "      <td>male</td>\n",
       "      <td>NaT</td>\n",
       "      <td>NaN</td>\n",
       "      <td>NaN</td>\n",
       "      <td>sailing</td>\n",
       "      <td>0</td>\n",
       "      <td>0</td>\n",
       "      <td>0</td>\n",
       "    </tr>\n",
       "  </tbody>\n",
       "</table>\n",
       "</div>"
      ],
      "text/plain": [
       "             id           name nationality   sex dob  height  weight    sport  \\\n",
       "8546  663676373  Pavel Sozykin         RUS  male NaT     NaN     NaN  sailing   \n",
       "\n",
       "      gold  silver  bronze  \n",
       "8546     0       0       0  "
      ]
     },
     "execution_count": 509,
     "metadata": {},
     "output_type": "execute_result"
    }
   ],
   "source": [
    "# Видим, что для одной записи у нас отсутствует дата рождения. Эту запись исключим из обучения модели.\n",
    "df[df['dob'].isna()==1]"
   ]
  },
  {
   "cell_type": "code",
   "execution_count": 510,
   "id": "8b48c5de",
   "metadata": {},
   "outputs": [],
   "source": [
    "df = df[df['dob'].isna() != 1]"
   ]
  },
  {
   "cell_type": "markdown",
   "id": "e492c785",
   "metadata": {},
   "source": [
    "**Height & Weight**"
   ]
  },
  {
   "cell_type": "code",
   "execution_count": 511,
   "id": "e42e932d",
   "metadata": {},
   "outputs": [],
   "source": [
    "# Заполним пропущенные значения медианой в разрезе пола и вида спорта.\n",
    "df.height = df.height.fillna(df.groupby(['sex', 'sport'])['height'].transform('median'))\n",
    "df.weight = df.weight.fillna(df.groupby(['sex', 'sport'])['weight'].transform('median'))"
   ]
  },
  {
   "cell_type": "code",
   "execution_count": 512,
   "id": "ceb8ab1d",
   "metadata": {},
   "outputs": [
    {
     "data": {
      "text/plain": [
       "height      0\n",
       "weight    286\n",
       "dtype: int64"
      ]
     },
     "execution_count": 512,
     "metadata": {},
     "output_type": "execute_result"
    }
   ],
   "source": [
    "df[['height', 'weight']].isna().sum()"
   ]
  },
  {
   "cell_type": "code",
   "execution_count": 513,
   "id": "d970c26d",
   "metadata": {},
   "outputs": [
    {
     "name": "stdout",
     "output_type": "stream",
     "text": [
      "Видим, что пропуски остались толкьо в категории спорта boxing\n"
     ]
    }
   ],
   "source": [
    "print('Видим, что пропуски остались толкьо в категории спорта {}'.format(df[df.weight.isna()]['sport'].unique()[0]))"
   ]
  },
  {
   "cell_type": "code",
   "execution_count": 514,
   "id": "5c46ffde",
   "metadata": {},
   "outputs": [],
   "source": [
    "# Заменим оставшиеся пропуски медианным значением в разрезе пола и роста спортсменов"
   ]
  },
  {
   "cell_type": "code",
   "execution_count": 515,
   "id": "34f09343",
   "metadata": {},
   "outputs": [],
   "source": [
    "df.weight = df.weight.fillna(df.groupby(['sex', 'height'])['weight'].transform('median'))"
   ]
  },
  {
   "cell_type": "markdown",
   "id": "b1d3f9c7",
   "metadata": {},
   "source": [
    "**Посмотрим на данные после обработки пропусков**"
   ]
  },
  {
   "cell_type": "code",
   "execution_count": 516,
   "id": "af52ceea",
   "metadata": {},
   "outputs": [
    {
     "data": {
      "text/plain": [
       "id             0\n",
       "name           0\n",
       "nationality    0\n",
       "sex            0\n",
       "dob            0\n",
       "height         0\n",
       "weight         0\n",
       "sport          0\n",
       "gold           0\n",
       "silver         0\n",
       "bronze         0\n",
       "dtype: int64"
      ]
     },
     "execution_count": 516,
     "metadata": {},
     "output_type": "execute_result"
    }
   ],
   "source": [
    "df.isna().sum()"
   ]
  },
  {
   "cell_type": "markdown",
   "id": "9d6c7545",
   "metadata": {},
   "source": [
    "## 1.2 Работа с DateTime"
   ]
  },
  {
   "cell_type": "code",
   "execution_count": 517,
   "id": "322c1061",
   "metadata": {},
   "outputs": [],
   "source": [
    "def calculate_age(birthdate):\n",
    "    \n",
    "    \"\"\" Функция позволяет по дате рождения рассчитать возраст спортсмена\"\"\"\n",
    "    \n",
    "    age = datetime.now().year - birthdate.year  - (datetime.now().month < birthdate.month)\n",
    "    return age"
   ]
  },
  {
   "cell_type": "code",
   "execution_count": 518,
   "id": "5424418f",
   "metadata": {},
   "outputs": [],
   "source": [
    "df['age'] = df['dob'].apply(calculate_age)\n"
   ]
  },
  {
   "cell_type": "code",
   "execution_count": 519,
   "id": "d9bce14d",
   "metadata": {},
   "outputs": [
    {
     "data": {
      "text/html": [
       "<div>\n",
       "<style scoped>\n",
       "    .dataframe tbody tr th:only-of-type {\n",
       "        vertical-align: middle;\n",
       "    }\n",
       "\n",
       "    .dataframe tbody tr th {\n",
       "        vertical-align: top;\n",
       "    }\n",
       "\n",
       "    .dataframe thead th {\n",
       "        text-align: right;\n",
       "    }\n",
       "</style>\n",
       "<table border=\"1\" class=\"dataframe\">\n",
       "  <thead>\n",
       "    <tr style=\"text-align: right;\">\n",
       "      <th></th>\n",
       "      <th>id</th>\n",
       "      <th>name</th>\n",
       "      <th>nationality</th>\n",
       "      <th>sex</th>\n",
       "      <th>dob</th>\n",
       "      <th>height</th>\n",
       "      <th>weight</th>\n",
       "      <th>sport</th>\n",
       "      <th>gold</th>\n",
       "      <th>silver</th>\n",
       "      <th>bronze</th>\n",
       "      <th>age</th>\n",
       "    </tr>\n",
       "  </thead>\n",
       "  <tbody>\n",
       "    <tr>\n",
       "      <th>0</th>\n",
       "      <td>736041664</td>\n",
       "      <td>A Jesus Garcia</td>\n",
       "      <td>ESP</td>\n",
       "      <td>male</td>\n",
       "      <td>1969-10-17</td>\n",
       "      <td>1.72</td>\n",
       "      <td>64.0</td>\n",
       "      <td>athletics</td>\n",
       "      <td>0</td>\n",
       "      <td>0</td>\n",
       "      <td>0</td>\n",
       "      <td>53</td>\n",
       "    </tr>\n",
       "    <tr>\n",
       "      <th>1</th>\n",
       "      <td>532037425</td>\n",
       "      <td>A Lam Shin</td>\n",
       "      <td>KOR</td>\n",
       "      <td>female</td>\n",
       "      <td>1986-09-23</td>\n",
       "      <td>1.68</td>\n",
       "      <td>56.0</td>\n",
       "      <td>fencing</td>\n",
       "      <td>0</td>\n",
       "      <td>0</td>\n",
       "      <td>0</td>\n",
       "      <td>36</td>\n",
       "    </tr>\n",
       "    <tr>\n",
       "      <th>2</th>\n",
       "      <td>435962603</td>\n",
       "      <td>Aaron Brown</td>\n",
       "      <td>CAN</td>\n",
       "      <td>male</td>\n",
       "      <td>1992-05-27</td>\n",
       "      <td>1.98</td>\n",
       "      <td>79.0</td>\n",
       "      <td>athletics</td>\n",
       "      <td>0</td>\n",
       "      <td>0</td>\n",
       "      <td>1</td>\n",
       "      <td>30</td>\n",
       "    </tr>\n",
       "    <tr>\n",
       "      <th>3</th>\n",
       "      <td>521041435</td>\n",
       "      <td>Aaron Cook</td>\n",
       "      <td>MDA</td>\n",
       "      <td>male</td>\n",
       "      <td>1991-01-02</td>\n",
       "      <td>1.83</td>\n",
       "      <td>80.0</td>\n",
       "      <td>taekwondo</td>\n",
       "      <td>0</td>\n",
       "      <td>0</td>\n",
       "      <td>0</td>\n",
       "      <td>31</td>\n",
       "    </tr>\n",
       "    <tr>\n",
       "      <th>4</th>\n",
       "      <td>33922579</td>\n",
       "      <td>Aaron Gate</td>\n",
       "      <td>NZL</td>\n",
       "      <td>male</td>\n",
       "      <td>1990-11-26</td>\n",
       "      <td>1.81</td>\n",
       "      <td>71.0</td>\n",
       "      <td>cycling</td>\n",
       "      <td>0</td>\n",
       "      <td>0</td>\n",
       "      <td>0</td>\n",
       "      <td>32</td>\n",
       "    </tr>\n",
       "  </tbody>\n",
       "</table>\n",
       "</div>"
      ],
      "text/plain": [
       "          id            name nationality     sex        dob  height  weight  \\\n",
       "0  736041664  A Jesus Garcia         ESP    male 1969-10-17    1.72    64.0   \n",
       "1  532037425      A Lam Shin         KOR  female 1986-09-23    1.68    56.0   \n",
       "2  435962603     Aaron Brown         CAN    male 1992-05-27    1.98    79.0   \n",
       "3  521041435      Aaron Cook         MDA    male 1991-01-02    1.83    80.0   \n",
       "4   33922579      Aaron Gate         NZL    male 1990-11-26    1.81    71.0   \n",
       "\n",
       "       sport  gold  silver  bronze  age  \n",
       "0  athletics     0       0       0   53  \n",
       "1    fencing     0       0       0   36  \n",
       "2  athletics     0       0       1   30  \n",
       "3  taekwondo     0       0       0   31  \n",
       "4    cycling     0       0       0   32  "
      ]
     },
     "execution_count": 519,
     "metadata": {},
     "output_type": "execute_result"
    }
   ],
   "source": [
    "df.head()"
   ]
  },
  {
   "cell_type": "code",
   "execution_count": 520,
   "id": "25ededb2",
   "metadata": {},
   "outputs": [
    {
     "data": {
      "text/html": [
       "<div>\n",
       "<style scoped>\n",
       "    .dataframe tbody tr th:only-of-type {\n",
       "        vertical-align: middle;\n",
       "    }\n",
       "\n",
       "    .dataframe tbody tr th {\n",
       "        vertical-align: top;\n",
       "    }\n",
       "\n",
       "    .dataframe thead th {\n",
       "        text-align: right;\n",
       "    }\n",
       "</style>\n",
       "<table border=\"1\" class=\"dataframe\">\n",
       "  <thead>\n",
       "    <tr style=\"text-align: right;\">\n",
       "      <th></th>\n",
       "      <th>id</th>\n",
       "      <th>name</th>\n",
       "      <th>nationality</th>\n",
       "      <th>sex</th>\n",
       "      <th>dob</th>\n",
       "      <th>height</th>\n",
       "      <th>weight</th>\n",
       "      <th>sport</th>\n",
       "      <th>gold</th>\n",
       "      <th>silver</th>\n",
       "      <th>bronze</th>\n",
       "      <th>age</th>\n",
       "    </tr>\n",
       "  </thead>\n",
       "  <tbody>\n",
       "    <tr>\n",
       "      <th>32</th>\n",
       "      <td>189886442</td>\n",
       "      <td>Abdelkebir Ouaddar</td>\n",
       "      <td>MAR</td>\n",
       "      <td>male</td>\n",
       "      <td>2062-07-15</td>\n",
       "      <td>1.74</td>\n",
       "      <td>67.0</td>\n",
       "      <td>equestrian</td>\n",
       "      <td>0</td>\n",
       "      <td>0</td>\n",
       "      <td>0</td>\n",
       "      <td>-40</td>\n",
       "    </tr>\n",
       "    <tr>\n",
       "      <th>55</th>\n",
       "      <td>969824503</td>\n",
       "      <td>Abdullah Alrashidi</td>\n",
       "      <td>IOA</td>\n",
       "      <td>male</td>\n",
       "      <td>2063-08-21</td>\n",
       "      <td>1.83</td>\n",
       "      <td>84.0</td>\n",
       "      <td>shooting</td>\n",
       "      <td>0</td>\n",
       "      <td>0</td>\n",
       "      <td>1</td>\n",
       "      <td>-41</td>\n",
       "    </tr>\n",
       "    <tr>\n",
       "      <th>1376</th>\n",
       "      <td>128263534</td>\n",
       "      <td>Beatriz Ferrer-Salat</td>\n",
       "      <td>ESP</td>\n",
       "      <td>female</td>\n",
       "      <td>2066-03-11</td>\n",
       "      <td>1.76</td>\n",
       "      <td>58.0</td>\n",
       "      <td>equestrian</td>\n",
       "      <td>0</td>\n",
       "      <td>0</td>\n",
       "      <td>0</td>\n",
       "      <td>-44</td>\n",
       "    </tr>\n",
       "    <tr>\n",
       "      <th>1446</th>\n",
       "      <td>951599589</td>\n",
       "      <td>Bernadette Pujals</td>\n",
       "      <td>MEX</td>\n",
       "      <td>female</td>\n",
       "      <td>2068-06-08</td>\n",
       "      <td>1.58</td>\n",
       "      <td>55.0</td>\n",
       "      <td>equestrian</td>\n",
       "      <td>0</td>\n",
       "      <td>0</td>\n",
       "      <td>0</td>\n",
       "      <td>-46</td>\n",
       "    </tr>\n",
       "    <tr>\n",
       "      <th>1746</th>\n",
       "      <td>48374531</td>\n",
       "      <td>Carl Hester</td>\n",
       "      <td>GBR</td>\n",
       "      <td>male</td>\n",
       "      <td>2067-06-29</td>\n",
       "      <td>1.82</td>\n",
       "      <td>86.0</td>\n",
       "      <td>equestrian</td>\n",
       "      <td>0</td>\n",
       "      <td>1</td>\n",
       "      <td>0</td>\n",
       "      <td>-45</td>\n",
       "    </tr>\n",
       "  </tbody>\n",
       "</table>\n",
       "</div>"
      ],
      "text/plain": [
       "             id                  name nationality     sex        dob  height  \\\n",
       "32    189886442    Abdelkebir Ouaddar         MAR    male 2062-07-15    1.74   \n",
       "55    969824503    Abdullah Alrashidi         IOA    male 2063-08-21    1.83   \n",
       "1376  128263534  Beatriz Ferrer-Salat         ESP  female 2066-03-11    1.76   \n",
       "1446  951599589     Bernadette Pujals         MEX  female 2068-06-08    1.58   \n",
       "1746   48374531           Carl Hester         GBR    male 2067-06-29    1.82   \n",
       "\n",
       "      weight       sport  gold  silver  bronze  age  \n",
       "32      67.0  equestrian     0       0       0  -40  \n",
       "55      84.0    shooting     0       0       1  -41  \n",
       "1376    58.0  equestrian     0       0       0  -44  \n",
       "1446    55.0  equestrian     0       0       0  -46  \n",
       "1746    86.0  equestrian     0       1       0  -45  "
      ]
     },
     "execution_count": 520,
     "metadata": {},
     "output_type": "execute_result"
    }
   ],
   "source": [
    "df[df['age'] < 0 ].head()"
   ]
  },
  {
   "cell_type": "code",
   "execution_count": 521,
   "id": "5d161894",
   "metadata": {},
   "outputs": [
    {
     "data": {
      "image/png": "[encoded data removed]",
      "text/plain": [
       "<Figure size 1440x576 with 1 Axes>"
      ]
     },
     "metadata": {
      "needs_background": "light"
     },
     "output_type": "display_data"
    }
   ],
   "source": [
    "plt.figure(figsize=(20, 8))\n",
    "sns.countplot(data=df, x='age', color='lightgrey')\n",
    "plt.show()"
   ]
  },
  {
   "cell_type": "markdown",
   "id": "10bff445",
   "metadata": {},
   "source": [
    "**Вывод**: видим, что в данных есть ошибки, некоторые даты рождения спортсменов указаны в будущем. Исключим такие записи из датасета."
   ]
  },
  {
   "cell_type": "code",
   "execution_count": 522,
   "id": "d4ffcbd3",
   "metadata": {},
   "outputs": [],
   "source": [
    "# Оставляем участников от 18 лет\n",
    "df = df[df.age >= 18]"
   ]
  },
  {
   "cell_type": "markdown",
   "id": "df729f05",
   "metadata": {},
   "source": [
    "# 2. Подготовка данных для построения модели"
   ]
  },
  {
   "cell_type": "code",
   "execution_count": 523,
   "id": "47fc2b84",
   "metadata": {},
   "outputs": [
    {
     "data": {
      "text/plain": [
       "['id',\n",
       " 'name',\n",
       " 'nationality',\n",
       " 'sex',\n",
       " 'dob',\n",
       " 'height',\n",
       " 'weight',\n",
       " 'sport',\n",
       " 'gold',\n",
       " 'silver',\n",
       " 'bronze',\n",
       " 'age']"
      ]
     },
     "execution_count": 523,
     "metadata": {},
     "output_type": "execute_result"
    }
   ],
   "source": [
    "# Список всех полей датасета\n",
    "[col for col in df.columns]"
   ]
  },
  {
   "cell_type": "code",
   "execution_count": 525,
   "id": "619d019b",
   "metadata": {},
   "outputs": [],
   "source": [
    "# Выделим признаки и ответы\n",
    "X, y = df[['nationality', 'height', 'weight', 'sport', 'gold', 'silver', 'bronze']], df['sex']"
   ]
  },
  {
   "cell_type": "markdown",
   "id": "93dd487a",
   "metadata": {},
   "source": [
    "**Замечание**: id и имя участников исключил из модели, т.к. это технические признаки и не влияют на предективную способность модели."
   ]
  },
  {
   "cell_type": "markdown",
   "id": "05114dbe",
   "metadata": {},
   "source": [
    "### 2.1 One hot and label Encoding "
   ]
  },
  {
   "cell_type": "code",
   "execution_count": 528,
   "id": "5ef83bf5",
   "metadata": {},
   "outputs": [],
   "source": [
    "# Кодировку признаков можно произвести до разбиения данных на трейн и тест, а скейлинг необходимо проводить после.\n",
    "le = LabelEncoder()\n",
    "y = le.fit_transform(y)"
   ]
  },
  {
   "cell_type": "code",
   "execution_count": 529,
   "id": "0d7f1b36",
   "metadata": {},
   "outputs": [],
   "source": [
    "X = pd.get_dummies(X)"
   ]
  },
  {
   "cell_type": "code",
   "execution_count": 530,
   "id": "e1ea40aa",
   "metadata": {},
   "outputs": [
    {
     "data": {
      "text/html": [
       "<div>\n",
       "<style scoped>\n",
       "    .dataframe tbody tr th:only-of-type {\n",
       "        vertical-align: middle;\n",
       "    }\n",
       "\n",
       "    .dataframe tbody tr th {\n",
       "        vertical-align: top;\n",
       "    }\n",
       "\n",
       "    .dataframe thead th {\n",
       "        text-align: right;\n",
       "    }\n",
       "</style>\n",
       "<table border=\"1\" class=\"dataframe\">\n",
       "  <thead>\n",
       "    <tr style=\"text-align: right;\">\n",
       "      <th></th>\n",
       "      <th>height</th>\n",
       "      <th>weight</th>\n",
       "      <th>gold</th>\n",
       "      <th>silver</th>\n",
       "      <th>bronze</th>\n",
       "      <th>nationality_AFG</th>\n",
       "      <th>nationality_ALB</th>\n",
       "      <th>nationality_ALG</th>\n",
       "      <th>nationality_AND</th>\n",
       "      <th>nationality_ANG</th>\n",
       "      <th>...</th>\n",
       "      <th>sport_rugby sevens</th>\n",
       "      <th>sport_sailing</th>\n",
       "      <th>sport_shooting</th>\n",
       "      <th>sport_table tennis</th>\n",
       "      <th>sport_taekwondo</th>\n",
       "      <th>sport_tennis</th>\n",
       "      <th>sport_triathlon</th>\n",
       "      <th>sport_volleyball</th>\n",
       "      <th>sport_weightlifting</th>\n",
       "      <th>sport_wrestling</th>\n",
       "    </tr>\n",
       "  </thead>\n",
       "  <tbody>\n",
       "    <tr>\n",
       "      <th>0</th>\n",
       "      <td>1.72</td>\n",
       "      <td>64.0</td>\n",
       "      <td>0</td>\n",
       "      <td>0</td>\n",
       "      <td>0</td>\n",
       "      <td>0</td>\n",
       "      <td>0</td>\n",
       "      <td>0</td>\n",
       "      <td>0</td>\n",
       "      <td>0</td>\n",
       "      <td>...</td>\n",
       "      <td>0</td>\n",
       "      <td>0</td>\n",
       "      <td>0</td>\n",
       "      <td>0</td>\n",
       "      <td>0</td>\n",
       "      <td>0</td>\n",
       "      <td>0</td>\n",
       "      <td>0</td>\n",
       "      <td>0</td>\n",
       "      <td>0</td>\n",
       "    </tr>\n",
       "    <tr>\n",
       "      <th>1</th>\n",
       "      <td>1.68</td>\n",
       "      <td>56.0</td>\n",
       "      <td>0</td>\n",
       "      <td>0</td>\n",
       "      <td>0</td>\n",
       "      <td>0</td>\n",
       "      <td>0</td>\n",
       "      <td>0</td>\n",
       "      <td>0</td>\n",
       "      <td>0</td>\n",
       "      <td>...</td>\n",
       "      <td>0</td>\n",
       "      <td>0</td>\n",
       "      <td>0</td>\n",
       "      <td>0</td>\n",
       "      <td>0</td>\n",
       "      <td>0</td>\n",
       "      <td>0</td>\n",
       "      <td>0</td>\n",
       "      <td>0</td>\n",
       "      <td>0</td>\n",
       "    </tr>\n",
       "    <tr>\n",
       "      <th>2</th>\n",
       "      <td>1.98</td>\n",
       "      <td>79.0</td>\n",
       "      <td>0</td>\n",
       "      <td>0</td>\n",
       "      <td>1</td>\n",
       "      <td>0</td>\n",
       "      <td>0</td>\n",
       "      <td>0</td>\n",
       "      <td>0</td>\n",
       "      <td>0</td>\n",
       "      <td>...</td>\n",
       "      <td>0</td>\n",
       "      <td>0</td>\n",
       "      <td>0</td>\n",
       "      <td>0</td>\n",
       "      <td>0</td>\n",
       "      <td>0</td>\n",
       "      <td>0</td>\n",
       "      <td>0</td>\n",
       "      <td>0</td>\n",
       "      <td>0</td>\n",
       "    </tr>\n",
       "    <tr>\n",
       "      <th>3</th>\n",
       "      <td>1.83</td>\n",
       "      <td>80.0</td>\n",
       "      <td>0</td>\n",
       "      <td>0</td>\n",
       "      <td>0</td>\n",
       "      <td>0</td>\n",
       "      <td>0</td>\n",
       "      <td>0</td>\n",
       "      <td>0</td>\n",
       "      <td>0</td>\n",
       "      <td>...</td>\n",
       "      <td>0</td>\n",
       "      <td>0</td>\n",
       "      <td>0</td>\n",
       "      <td>0</td>\n",
       "      <td>1</td>\n",
       "      <td>0</td>\n",
       "      <td>0</td>\n",
       "      <td>0</td>\n",
       "      <td>0</td>\n",
       "      <td>0</td>\n",
       "    </tr>\n",
       "    <tr>\n",
       "      <th>4</th>\n",
       "      <td>1.81</td>\n",
       "      <td>71.0</td>\n",
       "      <td>0</td>\n",
       "      <td>0</td>\n",
       "      <td>0</td>\n",
       "      <td>0</td>\n",
       "      <td>0</td>\n",
       "      <td>0</td>\n",
       "      <td>0</td>\n",
       "      <td>0</td>\n",
       "      <td>...</td>\n",
       "      <td>0</td>\n",
       "      <td>0</td>\n",
       "      <td>0</td>\n",
       "      <td>0</td>\n",
       "      <td>0</td>\n",
       "      <td>0</td>\n",
       "      <td>0</td>\n",
       "      <td>0</td>\n",
       "      <td>0</td>\n",
       "      <td>0</td>\n",
       "    </tr>\n",
       "  </tbody>\n",
       "</table>\n",
       "<p>5 rows × 240 columns</p>\n",
       "</div>"
      ],
      "text/plain": [
       "   height  weight  gold  silver  bronze  nationality_AFG  nationality_ALB  \\\n",
       "0    1.72    64.0     0       0       0                0                0   \n",
       "1    1.68    56.0     0       0       0                0                0   \n",
       "2    1.98    79.0     0       0       1                0                0   \n",
       "3    1.83    80.0     0       0       0                0                0   \n",
       "4    1.81    71.0     0       0       0                0                0   \n",
       "\n",
       "   nationality_ALG  nationality_AND  nationality_ANG  ...  sport_rugby sevens  \\\n",
       "0                0                0                0  ...                   0   \n",
       "1                0                0                0  ...                   0   \n",
       "2                0                0                0  ...                   0   \n",
       "3                0                0                0  ...                   0   \n",
       "4                0                0                0  ...                   0   \n",
       "\n",
       "   sport_sailing  sport_shooting  sport_table tennis  sport_taekwondo  \\\n",
       "0              0               0                   0                0   \n",
       "1              0               0                   0                0   \n",
       "2              0               0                   0                0   \n",
       "3              0               0                   0                1   \n",
       "4              0               0                   0                0   \n",
       "\n",
       "   sport_tennis  sport_triathlon  sport_volleyball  sport_weightlifting  \\\n",
       "0             0                0                 0                    0   \n",
       "1             0                0                 0                    0   \n",
       "2             0                0                 0                    0   \n",
       "3             0                0                 0                    0   \n",
       "4             0                0                 0                    0   \n",
       "\n",
       "   sport_wrestling  \n",
       "0                0  \n",
       "1                0  \n",
       "2                0  \n",
       "3                0  \n",
       "4                0  \n",
       "\n",
       "[5 rows x 240 columns]"
      ]
     },
     "execution_count": 530,
     "metadata": {},
     "output_type": "execute_result"
    }
   ],
   "source": [
    "X.head()"
   ]
  },
  {
   "cell_type": "markdown",
   "id": "a8e72e13",
   "metadata": {},
   "source": [
    "### 2.2 Разделение выборки на обучающую (80% данных) и тестовую (20% данных) подмножества."
   ]
  },
  {
   "cell_type": "code",
   "execution_count": 692,
   "id": "074eb3ac",
   "metadata": {},
   "outputs": [],
   "source": [
    "X_train, X_test, y_train, y_test = train_test_split(X, y, test_size=0.2, random_state=42)"
   ]
  },
  {
   "cell_type": "markdown",
   "id": "19280213",
   "metadata": {},
   "source": [
    "### 2.3 Стандартизация данных"
   ]
  },
  {
   "cell_type": "code",
   "execution_count": 693,
   "id": "97f3f4e3",
   "metadata": {},
   "outputs": [],
   "source": [
    "sc = StandardScaler()\n",
    "X_train = sc.fit_transform(X_train)\n",
    "X_test = sc.transform(X_test)"
   ]
  },
  {
   "cell_type": "markdown",
   "id": "f6913267",
   "metadata": {},
   "source": [
    "### 2.4 Построение модели"
   ]
  },
  {
   "cell_type": "code",
   "execution_count": 694,
   "id": "3724570c",
   "metadata": {},
   "outputs": [
    {
     "data": {
      "text/plain": [
       "0.8466230936819172"
      ]
     },
     "execution_count": 694,
     "metadata": {},
     "output_type": "execute_result"
    }
   ],
   "source": [
    "# Строим модель\n",
    "lr = LogisticRegression()\n",
    "lr.fit(X_train, y_train)\n",
    "y_pred = lr.predict(X_test)\n",
    "lr.score(X_test, y_test)"
   ]
  },
  {
   "cell_type": "markdown",
   "id": "c02b9e3b",
   "metadata": {},
   "source": [
    "# 3 Оценка качества\n"
   ]
  },
  {
   "cell_type": "markdown",
   "id": "2e5e3437",
   "metadata": {},
   "source": [
    "### 3.1 classification_report & confusion_matrix"
   ]
  },
  {
   "cell_type": "markdown",
   "id": "ed8d7bb1",
   "metadata": {},
   "source": [
    "Прежде, чем строить основные метрики смотрю на classification_report и матрицу ошибок:"
   ]
  },
  {
   "cell_type": "code",
   "execution_count": 695,
   "id": "2b6d9b31",
   "metadata": {},
   "outputs": [
    {
     "name": "stdout",
     "output_type": "stream",
     "text": [
      "              precision    recall  f1-score   support\n",
      "\n",
      "           0       0.83      0.82      0.83      1033\n",
      "           1       0.86      0.87      0.86      1262\n",
      "\n",
      "    accuracy                           0.85      2295\n",
      "   macro avg       0.85      0.84      0.84      2295\n",
      "weighted avg       0.85      0.85      0.85      2295\n",
      "\n"
     ]
    }
   ],
   "source": [
    "report = classification_report(y_test, y_pred)\n",
    "print(report)"
   ]
  },
  {
   "cell_type": "code",
   "execution_count": 696,
   "id": "4050fdd6",
   "metadata": {},
   "outputs": [
    {
     "name": "stdout",
     "output_type": "stream",
     "text": [
      "Confusion Matrix:\n"
     ]
    },
    {
     "data": {
      "image/png": "[encoded data removed]",
      "text/plain": [
       "<Figure size 432x288 with 2 Axes>"
      ]
     },
     "metadata": {
      "needs_background": "light"
     },
     "output_type": "display_data"
    }
   ],
   "source": [
    "conf_matrix = confusion_matrix(y_test, y_pred)\n",
    "plt.figure(figsize=(6,4))\n",
    "sns.heatmap(conf_matrix, annot=True, fmt=\".1f\")\n",
    "plt.xlabel('model predictions')\n",
    "plt.ylabel('real class')\n",
    "print('Confusion Matrix:')\n",
    "plt.show()"
   ]
  },
  {
   "cell_type": "markdown",
   "id": "f77a8bbf",
   "metadata": {},
   "source": [
    "### 3.2 Построение ROC-кривой с помощью функции sklearn.metrics. roc_curve."
   ]
  },
  {
   "cell_type": "code",
   "execution_count": 871,
   "id": "5f1bebb9",
   "metadata": {},
   "outputs": [],
   "source": [
    "fpr, tpr, tresholds = roc_curve(y_test, probs)"
   ]
  },
  {
   "cell_type": "code",
   "execution_count": 872,
   "id": "f8c253cc",
   "metadata": {},
   "outputs": [
    {
     "data": {
      "image/png": "[encoded data removed]",
      "text/plain": [
       "<Figure size 432x288 with 1 Axes>"
      ]
     },
     "metadata": {
      "needs_background": "light"
     },
     "output_type": "display_data"
    }
   ],
   "source": [
    "plt.plot(fpr, tpr)\n",
    "plt.title('ROC Curve')\n",
    "plt.xlabel('False positive Rate')\n",
    "plt.ylabel('True positive Rate')\n",
    "\n",
    "plt.show()"
   ]
  },
  {
   "cell_type": "markdown",
   "id": "9402eda3",
   "metadata": {},
   "source": [
    "### 3.3 Вычисление значения ROC-AUC метрики с помощью функции sklearn.metrics.roc_auc_score."
   ]
  },
  {
   "cell_type": "code",
   "execution_count": 699,
   "id": "b2021247",
   "metadata": {},
   "outputs": [
    {
     "data": {
      "text/plain": [
       "0.9119684331482626"
      ]
     },
     "execution_count": 699,
     "metadata": {},
     "output_type": "execute_result"
    }
   ],
   "source": [
    "# Area Under Curve\n",
    "roc_auc_score(y_test, probs)"
   ]
  },
  {
   "cell_type": "markdown",
   "id": "314da646",
   "metadata": {},
   "source": [
    "### 3.3 подсчет метрик TPR, FPR «вручную», без использования готовых функций из библиотеки sklearn."
   ]
  },
  {
   "cell_type": "code",
   "execution_count": 700,
   "id": "6378fbb4",
   "metadata": {},
   "outputs": [],
   "source": [
    "y_pred_proba = lr.predict_proba(X_test)[:, 1]"
   ]
  },
  {
   "cell_type": "code",
   "execution_count": 705,
   "id": "9097e199",
   "metadata": {},
   "outputs": [],
   "source": [
    "treshold = 0.5"
   ]
  },
  {
   "cell_type": "code",
   "execution_count": 713,
   "id": "ac0519bf",
   "metadata": {},
   "outputs": [
    {
     "data": {
      "text/html": [
       "<div>\n",
       "<style scoped>\n",
       "    .dataframe tbody tr th:only-of-type {\n",
       "        vertical-align: middle;\n",
       "    }\n",
       "\n",
       "    .dataframe tbody tr th {\n",
       "        vertical-align: top;\n",
       "    }\n",
       "\n",
       "    .dataframe thead th {\n",
       "        text-align: right;\n",
       "    }\n",
       "</style>\n",
       "<table border=\"1\" class=\"dataframe\">\n",
       "  <thead>\n",
       "    <tr style=\"text-align: right;\">\n",
       "      <th></th>\n",
       "      <th>real</th>\n",
       "      <th>y_pred_proba</th>\n",
       "      <th>treshold</th>\n",
       "      <th>y_pred</th>\n",
       "    </tr>\n",
       "  </thead>\n",
       "  <tbody>\n",
       "    <tr>\n",
       "      <th>0</th>\n",
       "      <td>1</td>\n",
       "      <td>0.959041</td>\n",
       "      <td>0.5</td>\n",
       "      <td>1</td>\n",
       "    </tr>\n",
       "    <tr>\n",
       "      <th>1</th>\n",
       "      <td>0</td>\n",
       "      <td>0.155196</td>\n",
       "      <td>0.5</td>\n",
       "      <td>0</td>\n",
       "    </tr>\n",
       "    <tr>\n",
       "      <th>2</th>\n",
       "      <td>0</td>\n",
       "      <td>0.019630</td>\n",
       "      <td>0.5</td>\n",
       "      <td>0</td>\n",
       "    </tr>\n",
       "    <tr>\n",
       "      <th>3</th>\n",
       "      <td>1</td>\n",
       "      <td>0.690934</td>\n",
       "      <td>0.5</td>\n",
       "      <td>1</td>\n",
       "    </tr>\n",
       "    <tr>\n",
       "      <th>4</th>\n",
       "      <td>0</td>\n",
       "      <td>0.061172</td>\n",
       "      <td>0.5</td>\n",
       "      <td>0</td>\n",
       "    </tr>\n",
       "  </tbody>\n",
       "</table>\n",
       "</div>"
      ],
      "text/plain": [
       "   real  y_pred_proba  treshold  y_pred\n",
       "0     1      0.959041       0.5       1\n",
       "1     0      0.155196       0.5       0\n",
       "2     0      0.019630       0.5       0\n",
       "3     1      0.690934       0.5       1\n",
       "4     0      0.061172       0.5       0"
      ]
     },
     "execution_count": 713,
     "metadata": {},
     "output_type": "execute_result"
    }
   ],
   "source": [
    "pd.DataFrame({'real': y_test, 'y_pred_proba': y_pred_proba, 'treshold': treshold, 'y_pred': y_pred}).head()"
   ]
  },
  {
   "cell_type": "code",
   "execution_count": 796,
   "id": "ac6ac35c",
   "metadata": {
    "scrolled": false
   },
   "outputs": [],
   "source": [
    "# Рассчитаем: True Positive, True Negative, False Positive, False Negative\n",
    "\n",
    "def calc_tpr_fpr(y_test, y_pred_proba, treshold=0.5):\n",
    "\n",
    "    tp, tn, fp, fn = (0, 0, 0, 0)\n",
    "\n",
    "    for i in range(len(y_test)):\n",
    "        prediction = y_pred_proba[i]\n",
    "\n",
    "        if prediction > treshold:\n",
    "            pred_calss = 1\n",
    "        else:\n",
    "            pred_calss = 0\n",
    "\n",
    "        if (y_test[i] == 1) and pred_calss == 1:\n",
    "            tp += 1\n",
    "        elif y_test[i] == 0 and pred_calss == 0:\n",
    "            tn += 1    \n",
    "        elif y_test[i] == 0 and pred_calss == 1:\n",
    "            fp += 1 \n",
    "        else:\n",
    "            fn += 1\n",
    "    \n",
    "    print(f'tp = {tp}, tn = {tn}, fp = {fp}, fn = {fn};')    \n",
    "    print('*'*39)\n",
    "    \n",
    "    tpr = tp / (tp + fn)\n",
    "    fpr = fp / (tn + fp)\n",
    "    \n",
    "    print(f'True Positive Rate  (TPR): {round(tpr, 3)}')\n",
    "    print(f'False Positive Rate (FPR): {round(fpr, 3)}')\n",
    "    \n",
    "    return tpr, fpr\n",
    "    "
   ]
  },
  {
   "cell_type": "code",
   "execution_count": 797,
   "id": "a13e6098",
   "metadata": {},
   "outputs": [
    {
     "name": "stdout",
     "output_type": "stream",
     "text": [
      "tp = 1094, tn = 849, fp = 184, fn = 168;\n",
      "***************************************\n",
      "True Positive Rate  (TPR): 0.867\n",
      "False Positive Rate (FPR): 0.178\n"
     ]
    },
    {
     "data": {
      "text/plain": [
       "(0.866877971473851, 0.1781219748305905)"
      ]
     },
     "execution_count": 797,
     "metadata": {},
     "output_type": "execute_result"
    }
   ],
   "source": [
    "calc_tpr_fpr(y_test, y_pred_proba)"
   ]
  },
  {
   "cell_type": "markdown",
   "id": "2feab8b7",
   "metadata": {},
   "source": [
    "**Примечание:** \n",
    "\n",
    "* TPR показывает, какую долю объектов положительного класса из всех объектов положительного класса нашел алгоритм.\n",
    "* FPR показывает, какую долю из объектов negative класса алгоритм предсказал неверно."
   ]
  },
  {
   "cell_type": "markdown",
   "id": "1367f317",
   "metadata": {},
   "source": [
    "### 3.4 Постройте ROC-кривую с помощью вычисленных в п. 5 метрик: объедините графики из п. 3 и п. 6 в один. Сравните, сделайте вывод."
   ]
  },
  {
   "cell_type": "code",
   "execution_count": 878,
   "id": "41008866",
   "metadata": {},
   "outputs": [],
   "source": [
    "def custom_roc_curve(y_test, y_pred_proba):\n",
    "    \n",
    "    tpr_list = []\n",
    "    fpr_list = []\n",
    "    treshold_list =[] \n",
    "    roc_stats = []\n",
    "    tresholds = np.linspace(0, 1, y_test.shape[0]) # Делаю столько же разбиение, сколько и данных.\n",
    "    \n",
    "    for treshold in tresholds:\n",
    "\n",
    "        tp, tn, fp, fn = (0, 0, 0, 0)\n",
    "\n",
    "        for i in range(len(y_test)):\n",
    "            prediction = y_pred_proba[i]\n",
    "\n",
    "            if prediction > treshold:\n",
    "                pred_calss = 1\n",
    "            else:\n",
    "                pred_calss = 0\n",
    "\n",
    "            if (y_test[i] == 1) and pred_calss == 1:\n",
    "                tp += 1\n",
    "            elif y_test[i] == 0 and pred_calss == 0:\n",
    "                tn += 1    \n",
    "            elif y_test[i] == 0 and pred_calss == 1:\n",
    "                fp += 1 \n",
    "            else:\n",
    "                fn += 1\n",
    "\n",
    "        tpr = tp / (tp + fn)\n",
    "        fpr = fp / (tn + fp)\n",
    "        \n",
    "#         print(f'TPR = {round(tpr, 3)}, FPR = {round(fpr, 3)}, treshold = {round(treshold, 2)}')\n",
    "        \n",
    "#         roc_stats.append([tpr, fpr, treshold])\n",
    "        \n",
    "        tpr_list.append(tpr)\n",
    "        fpr_list.append(fpr)\n",
    "        treshold_list.append(round(treshold, 2))\n",
    "     \n",
    "    return tpr_list, fpr_list, treshold_list"
   ]
  },
  {
   "cell_type": "code",
   "execution_count": 879,
   "id": "1e9ba229",
   "metadata": {},
   "outputs": [],
   "source": [
    "tpr_custom, fpr_custom, treshold_custom = custom_roc_curve(y_test, y_pred_proba)"
   ]
  },
  {
   "cell_type": "code",
   "execution_count": 885,
   "id": "2ed099d4",
   "metadata": {},
   "outputs": [
    {
     "data": {
      "image/png": "[encoded data removed]",
      "text/plain": [
       "<Figure size 1440x720 with 1 Axes>"
      ]
     },
     "metadata": {
      "needs_background": "light"
     },
     "output_type": "display_data"
    }
   ],
   "source": [
    "plt.figure(figsize=(20, 10))\n",
    "plt.plot(fpr, tpr, label = 'skit-learn')\n",
    "plt.plot(fpr_custom, tpr_custom, label = 'custom')\n",
    "plt.title('ROC Curve')\n",
    "plt.legend()\n",
    "plt.xlabel('False positive Rate')\n",
    "plt.ylabel('True positive Rate')\n",
    "\n",
    "plt.show()"
   ]
  },
  {
   "cell_type": "code",
   "execution_count": null,
   "id": "41b03baa",
   "metadata": {},
   "outputs": [],
   "source": []
  },
  {
   "cell_type": "markdown",
   "id": "6b58453e",
   "metadata": {},
   "source": [
    "Average Precision Score and Precision Recal Curve"
   ]
  },
  {
   "cell_type": "code",
   "execution_count": 568,
   "id": "f0826886",
   "metadata": {},
   "outputs": [],
   "source": [
    "precision, recall, tresholds = precision_recall_curve(y_test, probs)\n",
    "fpr, tpr, tresholds_ = roc_curve(y_test, probs)"
   ]
  },
  {
   "cell_type": "code",
   "execution_count": 569,
   "id": "d929a93e",
   "metadata": {},
   "outputs": [
    {
     "data": {
      "image/png": "[encoded data removed]",
      "text/plain": [
       "<Figure size 432x288 with 1 Axes>"
      ]
     },
     "metadata": {
      "needs_background": "light"
     },
     "output_type": "display_data"
    }
   ],
   "source": [
    "plt.plot(recall, precision)\n",
    "plt.show()"
   ]
  },
  {
   "cell_type": "code",
   "execution_count": 570,
   "id": "50beb8a6",
   "metadata": {},
   "outputs": [
    {
     "data": {
      "text/plain": [
       "0.9132794453004123"
      ]
     },
     "execution_count": 570,
     "metadata": {},
     "output_type": "execute_result"
    }
   ],
   "source": [
    "average_precision_score(y_test, probs )"
   ]
  },
  {
   "cell_type": "code",
   "execution_count": null,
   "id": "cb049b8d",
   "metadata": {},
   "outputs": [],
   "source": []
  },
  {
   "cell_type": "code",
   "execution_count": null,
   "id": "dd65bfc5",
   "metadata": {},
   "outputs": [],
   "source": []
  },
  {
   "cell_type": "code",
   "execution_count": null,
   "id": "9d2b0358",
   "metadata": {},
   "outputs": [],
   "source": []
  }
 ],
 "metadata": {
  "kernelspec": {
   "display_name": "Python 3 (ipykernel)",
   "language": "python",
   "name": "python3"
  },
  "language_info": {
   "codemirror_mode": {
    "name": "ipython",
    "version": 3
   },
   "file_extension": ".py",
   "mimetype": "text/x-python",
   "name": "python",
   "nbconvert_exporter": "python",
   "pygments_lexer": "ipython3",
   "version": "3.9.7"
  }
 },
 "nbformat": 4,
 "nbformat_minor": 5
}
